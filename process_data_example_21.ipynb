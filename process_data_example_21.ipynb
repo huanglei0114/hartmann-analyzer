{
 "cells": [
  {
   "cell_type": "code",
   "execution_count": 1,
   "metadata": {},
   "outputs": [],
   "source": [
    "import os, sys, png\n",
    "import numpy as np\n",
    "from matplotlib import pyplot as plt\n",
    "\n",
    "from codes.hartmann import read_wavefront_sensor_image_dat, add_no_noise, process_hartmanngram"
   ]
  },
  {
   "cell_type": "markdown",
   "metadata": {},
   "source": [
    "### Set parameters"
   ]
  },
  {
   "cell_type": "code",
   "execution_count": 2,
   "metadata": {},
   "outputs": [],
   "source": [
    "data_path = 'data_example_21'\n",
    "\n",
    "para = {\n",
    "    'nu_detector': 512,\n",
    "    'nv_detector': 512,\n",
    "    'upsampling': 2,\n",
    "    'grid_period': 20.e-06,\n",
    "    'dist_mask_to_detector': 0.2,\n",
    "    'lowest_fringe_order': 8,\n",
    "    'centroid_power': 1.7,\n",
    "    'detector_pixel_size': 1.48e-06,\n",
    "    'wavelength': 1.0972e-10,\n",
    "}"
   ]
  },
  {
   "cell_type": "markdown",
   "metadata": {},
   "source": [
    "### Process `data_example_21/ex21_res_int_pr_se.dat`"
   ]
  },
  {
   "cell_type": "code",
   "execution_count": 3,
   "metadata": {},
   "outputs": [
    {
     "name": "stdout",
     "output_type": "stream",
     "text": [
      "Calculating slopes from the hartmanngram...calculating the wrapped phase...phase unwrapping...checking fringe orders...calculating centroids and slopes...assembling the centroids and slopes...completed (lasted 13.530027 s)\n"
     ]
    },
    {
     "ename": "AttributeError",
     "evalue": "module 'scipy.sparse' has no attribute 'linalg'",
     "output_type": "error",
     "traceback": [
      "\u001b[1;31m---------------------------------------------------------------------------\u001b[0m",
      "\u001b[1;31mAttributeError\u001b[0m                            Traceback (most recent call last)",
      "\u001b[1;32m<ipython-input-3-c10ac96f0fed>\u001b[0m in \u001b[0;36m<module>\u001b[1;34m\u001b[0m\n\u001b[0;32m     22\u001b[0m                            para['nv_detector']/2]).astype(int)\n\u001b[0;32m     23\u001b[0m \u001b[0mwfr\u001b[0m\u001b[1;33m,\u001b[0m \u001b[0mx2d\u001b[0m\u001b[1;33m,\u001b[0m \u001b[0my2d\u001b[0m\u001b[1;33m,\u001b[0m \u001b[0mabr\u001b[0m\u001b[1;33m,\u001b[0m \u001b[0mcoefs_wfr_wl\u001b[0m\u001b[1;33m,\u001b[0m \u001b[0mcoefs_abr_wl\u001b[0m\u001b[1;33m,\u001b[0m \u001b[0mdenominator\u001b[0m\u001b[1;33m,\u001b[0m \u001b[0mstrehl_ratio\u001b[0m \u001b[1;33m=\u001b[0m\u001b[0;31m \u001b[0m\u001b[0;31m\\\u001b[0m\u001b[1;33m\u001b[0m\u001b[1;33m\u001b[0m\u001b[0m\n\u001b[1;32m---> 24\u001b[1;33m     process_hartmanngram(para,\n\u001b[0m\u001b[0;32m     25\u001b[0m                          \u001b[0mhartmanngram\u001b[0m\u001b[1;33m,\u001b[0m\u001b[1;33m\u001b[0m\u001b[1;33m\u001b[0m\u001b[0m\n\u001b[0;32m     26\u001b[0m                          \u001b[0mstarting_pixel\u001b[0m\u001b[1;33m=\u001b[0m\u001b[0mstarting_pixel\u001b[0m\u001b[1;33m,\u001b[0m\u001b[1;33m\u001b[0m\u001b[1;33m\u001b[0m\u001b[0m\n",
      "\u001b[1;32mc:\\GitHub\\hartmann-analyzer\\codes\\hartmann\\hartmann_algorithm.py\u001b[0m in \u001b[0;36mprocess_hartmanngram\u001b[1;34m(para, hartmanngram, starting_pixel, thresholding_mode, img_int_thr, area_thr, ratio_thr, min_order_u, max_order_u, min_order_v, max_order_v, edge_exclusion)\u001b[0m\n\u001b[0;32m    127\u001b[0m     \u001b[1;31m# 3. Analyze the slopes\u001b[0m\u001b[1;33m\u001b[0m\u001b[1;33m\u001b[0m\u001b[1;33m\u001b[0m\u001b[0m\n\u001b[0;32m    128\u001b[0m     \u001b[0mwfr\u001b[0m\u001b[1;33m,\u001b[0m \u001b[0mabr\u001b[0m\u001b[1;33m,\u001b[0m \u001b[0mcoefs_wfr_wl\u001b[0m\u001b[1;33m,\u001b[0m \u001b[0mcoefs_abr_wl\u001b[0m \u001b[1;33m=\u001b[0m\u001b[0;31m \u001b[0m\u001b[0;31m\\\u001b[0m\u001b[1;33m\u001b[0m\u001b[1;33m\u001b[0m\u001b[0m\n\u001b[1;32m--> 129\u001b[1;33m         analyze_hartmann_slopes(x2d,\n\u001b[0m\u001b[0;32m    130\u001b[0m                                 \u001b[0my2d\u001b[0m\u001b[1;33m,\u001b[0m\u001b[1;33m\u001b[0m\u001b[1;33m\u001b[0m\u001b[0m\n\u001b[0;32m    131\u001b[0m                                 \u001b[0msx2d\u001b[0m\u001b[1;33m,\u001b[0m\u001b[1;33m\u001b[0m\u001b[1;33m\u001b[0m\u001b[0m\n",
      "\u001b[1;32mc:\\GitHub\\hartmann-analyzer\\codes\\hartmann\\hartmann_algorithm.py\u001b[0m in \u001b[0;36manalyze_hartmann_slopes\u001b[1;34m(x2d, y2d, sx2d, sy2d, wavelength, str_method, str_model, num_of_terms, is_show)\u001b[0m\n\u001b[0;32m    588\u001b[0m \u001b[1;33m\u001b[0m\u001b[0m\n\u001b[0;32m    589\u001b[0m     \u001b[1;32mif\u001b[0m \u001b[1;34m'zonal'\u001b[0m \u001b[1;33m==\u001b[0m \u001b[0mstr_method\u001b[0m\u001b[1;33m.\u001b[0m\u001b[0mlower\u001b[0m\u001b[1;33m(\u001b[0m\u001b[1;33m)\u001b[0m\u001b[1;33m:\u001b[0m\u001b[1;33m\u001b[0m\u001b[1;33m\u001b[0m\u001b[0m\n\u001b[1;32m--> 590\u001b[1;33m         \u001b[0mz2d_wfr\u001b[0m \u001b[1;33m=\u001b[0m \u001b[0mcalculate_2d_height_from_slope\u001b[0m\u001b[1;33m(\u001b[0m\u001b[0msx2d\u001b[0m\u001b[1;33m,\u001b[0m \u001b[0msy2d\u001b[0m\u001b[1;33m,\u001b[0m \u001b[0mx2d\u001b[0m\u001b[1;33m,\u001b[0m \u001b[0my2d\u001b[0m\u001b[1;33m)\u001b[0m\u001b[1;33m\u001b[0m\u001b[1;33m\u001b[0m\u001b[0m\n\u001b[0m\u001b[0;32m    591\u001b[0m \u001b[1;33m\u001b[0m\u001b[0m\n\u001b[0;32m    592\u001b[0m     \u001b[0mwfr_coefs_wl\u001b[0m \u001b[1;33m=\u001b[0m \u001b[0mwfr_coefs\u001b[0m\u001b[1;33m/\u001b[0m\u001b[0mwavelength\u001b[0m\u001b[1;33m\u001b[0m\u001b[1;33m\u001b[0m\u001b[0m\n",
      "\u001b[1;32mc:\\GitHub\\hartmann-analyzer\\codes\\hartmann\\omda\\omda_algorithm.py\u001b[0m in \u001b[0;36mcalculate_2d_height_from_slope\u001b[1;34m(***failed resolving arguments***)\u001b[0m\n\u001b[0;32m    201\u001b[0m     \u001b[1;32mdel\u001b[0m\u001b[1;33m(\u001b[0m\u001b[0mmatrix_gx5\u001b[0m\u001b[1;33m,\u001b[0m \u001b[0mmatrix_gy5\u001b[0m\u001b[1;33m)\u001b[0m\u001b[1;33m\u001b[0m\u001b[1;33m\u001b[0m\u001b[0m\n\u001b[0;32m    202\u001b[0m \u001b[1;33m\u001b[0m\u001b[0m\n\u001b[1;32m--> 203\u001b[1;33m     \u001b[0mz2d\u001b[0m \u001b[1;33m=\u001b[0m \u001b[0msparse\u001b[0m\u001b[1;33m.\u001b[0m\u001b[0mlinalg\u001b[0m\u001b[1;33m.\u001b[0m\u001b[0mlsqr\u001b[0m\u001b[1;33m(\u001b[0m\u001b[0mmatrix_d\u001b[0m\u001b[1;33m,\u001b[0m \u001b[0mmatrix_g\u001b[0m\u001b[1;33m)\u001b[0m\u001b[1;33m[\u001b[0m\u001b[1;36m0\u001b[0m\u001b[1;33m]\u001b[0m\u001b[1;33m\u001b[0m\u001b[1;33m\u001b[0m\u001b[0m\n\u001b[0m\u001b[0;32m    204\u001b[0m     \u001b[1;32mdel\u001b[0m\u001b[1;33m(\u001b[0m\u001b[0mmatrix_d\u001b[0m\u001b[1;33m,\u001b[0m \u001b[0mmatrix_g\u001b[0m\u001b[1;33m)\u001b[0m\u001b[1;33m\u001b[0m\u001b[1;33m\u001b[0m\u001b[0m\n\u001b[0;32m    205\u001b[0m \u001b[1;33m\u001b[0m\u001b[0m\n",
      "\u001b[1;31mAttributeError\u001b[0m: module 'scipy.sparse' has no attribute 'linalg'"
     ]
    }
   ],
   "source": [
    "# Read the Hartmanngram\n",
    "hartmanngram_fn = 'ex21_res_int_pr_se.dat'\n",
    "para['hartmanngram_filename'] = os.path.join(data_path, hartmanngram_fn)\n",
    "\n",
    "intensity_map = read_wavefront_sensor_image_dat(para['hartmanngram_filename'],\n",
    "                                                para['nu_detector'],\n",
    "                                                para['nv_detector'],\n",
    "                                                para['upsampling'],\n",
    "                                                )\n",
    "hartmanngram = add_no_noise(intensity_map)\n",
    "\n",
    "# Use pypng to write a grayscale PNG.\n",
    "hartmanngram_png_fn = hartmanngram_fn + '.png'\n",
    "png_fn = os.path.join(data_path, hartmanngram_png_fn)\n",
    "with open(png_fn, 'wb') as f:\n",
    "    writer = png.Writer(width=hartmanngram.shape[1],\n",
    "                        height=hartmanngram.shape[0], \n",
    "                        bitdepth=14, \n",
    "                        greyscale=True)\n",
    "    writer.write(f, hartmanngram.tolist())\n",
    "starting_pixel = np.array([para['nu_detector']/2,\n",
    "                           para['nv_detector']/2]).astype(int)\n",
    "wfr, x2d, y2d, abr, coefs_wfr_wl, coefs_abr_wl, denominator, strehl_ratio = \\\n",
    "    process_hartmanngram(para,\n",
    "                         hartmanngram,\n",
    "                         starting_pixel=starting_pixel,\n",
    "                         thresholding_mode='otsu',\n",
    "                         )\n",
    "plt.show()\n"
   ]
  }
 ],
 "metadata": {
  "kernelspec": {
   "display_name": "Python 3.8.10 ('py38')",
   "language": "python",
   "name": "python3"
  },
  "language_info": {
   "codemirror_mode": {
    "name": "ipython",
    "version": 3
   },
   "file_extension": ".py",
   "mimetype": "text/x-python",
   "name": "python",
   "nbconvert_exporter": "python",
   "pygments_lexer": "ipython3",
   "version": "3.8.10"
  },
  "vscode": {
   "interpreter": {
    "hash": "fdcf1aecffebe87729630873871c779ee3edf38fe3165cbc1025428abeb27d5d"
   }
  }
 },
 "nbformat": 4,
 "nbformat_minor": 4
}
